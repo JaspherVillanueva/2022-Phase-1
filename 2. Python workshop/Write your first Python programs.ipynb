{
 "cells": [
  {
   "cell_type": "markdown",
   "metadata": {},
   "source": [
    "# Work with output\n",
    "When you start learning any programming language, you first try out a few statements of code in a read-evaluate-print loop (REPL). You soon want to move into serious development, though. That means learning more about the language, how to structure a program, and more."
   ]
  },
  {
   "cell_type": "markdown",
   "metadata": {},
   "source": [
    "## A Python program\n",
    "To create a program in Python, you need to store it in a file. The file should have the extension *.py*"
   ]
  },
  {
   "cell_type": "code",
   "execution_count": 4,
   "metadata": {},
   "outputs": [
    {
     "name": "stdout",
     "output_type": "stream",
     "text": [
      "3\n"
     ]
    }
   ],
   "source": [
    "# program.py\n",
    "sum = 1 + 2\n",
    "print(sum)"
   ]
  },
  {
   "cell_type": "markdown",
   "metadata": {},
   "source": [
    "## The print() function\n",
    "One of the first things you're likely to do is print to a console. A console is a command-line application that lets you interact with the operating system. On the console, you can run commands and programs. You can also enter information and show information as text on the screen.\n",
    "\n",
    "To write information to the console, you can use the print() function and implement it as a core function. Because it's a core function, you'll have access to it if Python is installed. To use print(), give it an argument:"
   ]
  },
  {
   "cell_type": "code",
   "execution_count": 5,
   "metadata": {},
   "outputs": [
    {
     "name": "stdout",
     "output_type": "stream",
     "text": [
      "show this in the console\n"
     ]
    }
   ],
   "source": [
    "print(\"show this in the console\")"
   ]
  },
  {
   "cell_type": "markdown",
   "metadata": {},
   "source": [
    "## Variables\n",
    "To get anywhere with coding, you need to understand that you're operating on data. As your program is working on data, you might need to remember a certain value throughout the program's execution. For that, you use variables.\n",
    "\n",
    "The following example makes a calculation and stores it in variables:"
   ]
  },
  {
   "cell_type": "code",
   "execution_count": 7,
   "metadata": {},
   "outputs": [
    {
     "name": "stdout",
     "output_type": "stream",
     "text": [
      "6\n"
     ]
    }
   ],
   "source": [
    "sum = 1 + 2 #3\n",
    "product = sum * 2\n",
    "print(product)"
   ]
  },
  {
   "cell_type": "markdown",
   "metadata": {},
   "source": [
    "### Data types\n",
    "A variable assumes a data type. In the preceding program, sum gets the type int. However, there are many more data types. Here are a few that you're likely to encounter:\n",
    "\n",
    "| **Type**      | **Description**                   | **Example(s)**             |\n",
    "| ------------- | --------------------------------- | --------------------------- |\n",
    "| Numeric Type  | Number, with or without decimals  | int, float, complex, no = 3 | \n",
    "| Text Type     | String of characters              | str = \"a literal string\"    |\n",
    "| Boolean Type  | Boolean                           | continue = true             |\n",
    "\n",
    "There are more complex types, but let's start with these.\n",
    "\n",
    "Here's a piece of code that demonstrates some of the preceding types:"
   ]
  },
  {
   "cell_type": "code",
   "execution_count": 9,
   "metadata": {},
   "outputs": [
    {
     "name": "stdout",
     "output_type": "stream",
     "text": [
      "8\n",
      "4.367\n",
      "True\n",
      "Apollo 11\n"
     ]
    }
   ],
   "source": [
    "planets_in_solar_system = 8 # int, pluto used to be the 9th planet, but is too small\n",
    "distance_to_alpha_centauri = 4.367 # float, lightyears\n",
    "can_liftoff = True\n",
    "shuttle_landed_on_the_moon = \"Apollo 11\" #string \n",
    "\n",
    "print(planets_in_solar_system)\n",
    "print(distance_to_alpha_centauri)\n",
    "print(can_liftoff)\n",
    "print(shuttle_landed_on_the_moon)"
   ]
  },
  {
   "cell_type": "markdown",
   "metadata": {},
   "source": [
    "How do you know what type something has? If you see the data being assigned to the variable as shown in the following code, you can spot it:"
   ]
  },
  {
   "cell_type": "code",
   "execution_count": 10,
   "metadata": {},
   "outputs": [],
   "source": [
    "distance_to_alpha_centauri = 4.367 # looks like a float"
   ]
  },
  {
   "cell_type": "markdown",
   "metadata": {},
   "source": [
    "The other way is to use the type() function:"
   ]
  },
  {
   "cell_type": "code",
   "execution_count": 11,
   "metadata": {},
   "outputs": [
    {
     "name": "stdout",
     "output_type": "stream",
     "text": [
      "<class 'float'>\n"
     ]
    }
   ],
   "source": [
    "print(type(distance_to_alpha_centauri)) ## <class 'float'>)"
   ]
  },
  {
   "cell_type": "markdown",
   "metadata": {},
   "source": [
    "## Operators\n",
    "Operators let you perform various operations on variables and their values. The general idea is that you have a left side and a right side and an operator in the middle:"
   ]
  },
  {
   "cell_type": "code",
   "execution_count": null,
   "metadata": {},
   "outputs": [],
   "source": [
    "<left side> <operator> <right side>\n"
   ]
  },
  {
   "cell_type": "markdown",
   "metadata": {},
   "source": [
    "Here's what a real example of the preceding placeholder code would look like:"
   ]
  },
  {
   "cell_type": "code",
   "execution_count": 14,
   "metadata": {},
   "outputs": [
    {
     "name": "stdout",
     "output_type": "stream",
     "text": [
      "2.0\n"
     ]
    }
   ],
   "source": [
    "left_side = 10\n",
    "right_side = 5\n",
    "print(left_side / right_side) # 2\n",
    "\n"
   ]
  },
  {
   "cell_type": "markdown",
   "metadata": {},
   "source": [
    "This example uses a slash (/) to divide the left_side value by the right_side value.\n",
    "\n",
    "There are many more operators. This unit describes some important ones you're likely to encounter.\n",
    "\n",
    "Python uses two types of operators: *arithmetic* and *assignment*."
   ]
  },
  {
   "cell_type": "markdown",
   "metadata": {},
   "source": [
    "### Arithmetic operators\n",
    "With *arithmetic* operators, you perform calculations like addition, subtraction, division, and multiplication. Here's a subset of arithmetic operators you can use:\n",
    "\n",
    "| **Type**      | **Description**                                                                           | **Example**  |\n",
    "| :-----------: | --------------------------------------------------------------------------------------    | :----------: |\n",
    "| +             | Addition operator that adds two values together                                           | 1 + 1        |  \n",
    "| -             | Subtraction operator that removes the value of the right side from the left side          | 1 - 2        |\n",
    "| /             | Division operator that divides the left side as many times as the right side specifies    | 10 / 2       |\n",
    "| *             | Multiplication operator                                                                   | 2 * 2        |\n",
    "\n",
    "### Assignment operators\n",
    "You can use *assignment* operators to assign values to a variable throughout the lifecycle of the variable. Here are some assignment operators you're likely to encounter as you're learning to build programs:\n",
    "| **Operator**  | **Example**                                                                               |\n",
    "| :-----------: | ----------------------------------------------------------------------------------------- | \n",
    "| =             | x = 2 [x now contains 2.]                                                                 |  \n",
    "| +=            | x += 2 [x incremented by 2. If it contained 2 before, it now has a value of 4.]           |\n",
    "| -=            | x -= 2 [x decremented by 2. If it contained 2 before, it now has a value of 0.]           | \n",
    "| /=            | x /= 2 [x divided by 2. If it contained 2 before, it now has a value of 1.]               | \n",
    "| *=            | x *= 2 [x multiplied by 2. If it contained 2 before, it now has a value of 4.]            | \n",
    "\n",
    "## Dates\n",
    "When you're building programs, you're likely to interact with dates. A date in a program usually means both the calendar date and the time.\n",
    "\n",
    "You can use a date in various applications, like these examples:\n",
    "\n",
    "<ul>\n",
    "<li><b>Backup file</b>:. Using a date as part of a backup file's name is a good way to indicate when a backup was made and when it needs to be made again.</li>\n",
    "<li><b>Condition</b>:. You might want to carry a specific logic when there's a certain date.</li>\n",
    "<li><b>Metric</b>:. Dates are used to check performance on code to (for example) measure the time it takes to execute a function.</li>\n",
    "\n",
    "To work with a date, you need to import the date module:"
   ]
  },
  {
   "cell_type": "code",
   "execution_count": 17,
   "metadata": {},
   "outputs": [],
   "source": [
    "from datetime import date"
   ]
  },
  {
   "cell_type": "markdown",
   "metadata": {},
   "source": [
    "You can then call the functions that you want to work with. To get today's date, you can call the today() function:"
   ]
  },
  {
   "cell_type": "code",
   "execution_count": 18,
   "metadata": {},
   "outputs": [
    {
     "data": {
      "text/plain": [
       "datetime.date(2022, 6, 24)"
      ]
     },
     "execution_count": 18,
     "metadata": {},
     "output_type": "execute_result"
    }
   ],
   "source": [
    "date.today()"
   ]
  },
  {
   "cell_type": "markdown",
   "metadata": {},
   "source": [
    "To show the date on the console, you can use the print() function. The print() function takes many types of data as input. Here's how you can show today's date:"
   ]
  },
  {
   "cell_type": "code",
   "execution_count": 19,
   "metadata": {},
   "outputs": [
    {
     "name": "stdout",
     "output_type": "stream",
     "text": [
      "2022-06-24\n"
     ]
    }
   ],
   "source": [
    "print(date.today())"
   ]
  },
  {
   "cell_type": "markdown",
   "metadata": {},
   "source": [
    "## Data type conversion\n",
    "You want to use a date with something, usually a string. If you, for example, want to show today's date on the console, you might run into a problem:"
   ]
  },
  {
   "cell_type": "code",
   "execution_count": 20,
   "metadata": {},
   "outputs": [
    {
     "ename": "TypeError",
     "evalue": "can only concatenate str (not \"datetime.date\") to str",
     "output_type": "error",
     "traceback": [
      "\u001b[1;31m---------------------------------------------------------------------------\u001b[0m",
      "\u001b[1;31mTypeError\u001b[0m                                 Traceback (most recent call last)",
      "\u001b[1;32mc:\\Users\\edric\\2022-Phase-1\\2. Python workshop\\Write your first Python programs.ipynb Cell 26'\u001b[0m in \u001b[0;36m<cell line: 1>\u001b[1;34m()\u001b[0m\n\u001b[1;32m----> <a href='vscode-notebook-cell:/c%3A/Users/edric/2022-Phase-1/2.%20Python%20workshop/Write%20your%20first%20Python%20programs.ipynb#ch0000035?line=0'>1</a>\u001b[0m \u001b[39mprint\u001b[39m(\u001b[39m\"\u001b[39;49m\u001b[39mToday\u001b[39;49m\u001b[39m'\u001b[39;49m\u001b[39ms date is: \u001b[39;49m\u001b[39m\"\u001b[39;49m \u001b[39m+\u001b[39;49m date\u001b[39m.\u001b[39;49mtoday())\n",
      "\u001b[1;31mTypeError\u001b[0m: can only concatenate str (not \"datetime.date\") to str"
     ]
    }
   ],
   "source": [
    "print(\"Today's date is: \" + date.today())"
   ]
  },
  {
   "cell_type": "markdown",
   "metadata": {},
   "source": [
    "The last row of the message tells you what the problem is. You're trying to use the + operator and combine two different data types, a string and a date.\n",
    "\n",
    "To make this code work, you need to convert the date into a string. You accomplish such a conversion by using the utility function str():"
   ]
  },
  {
   "cell_type": "code",
   "execution_count": 21,
   "metadata": {},
   "outputs": [
    {
     "name": "stdout",
     "output_type": "stream",
     "text": [
      "Today's date is: 2022-06-24\n"
     ]
    }
   ],
   "source": [
    "print(\"Today's date is: \" + str(date.today()))"
   ]
  },
  {
   "cell_type": "markdown",
   "metadata": {},
   "source": [
    "## Collect input\n",
    "So far, you've learned various constructs of the Python programming language. You've also authored a couple of programs. However, programs operate on data, and that data comes from somewhere. In this unit, you'll take a closer look at how you can collect input both from the command line and from user input.\n",
    "\n",
    "## Command-line input\n",
    "When you start a program by using python3, you give it the name of the file to start. You can also give it a set of arguments: data that the program will have access to when running. Here's how that can look:"
   ]
  },
  {
   "cell_type": "code",
   "execution_count": null,
   "metadata": {},
   "outputs": [],
   "source": [
    "python3 backup.py 2022-01-01"
   ]
  },
  {
   "cell_type": "markdown",
   "metadata": {},
   "source": [
    "In the preceding code, the string \"2022-01-01\" can be used as instruction to the program to start a backup from that date. What you gain by using command-line arguments is flexibility. The program can behave differently depending on its outside input.\n",
    "\n",
    "### Command-line arguments\n",
    "How are these commands captured on the coding side of things? By using the sys module, you can retrieve the command-line arguments and use them in your program. Look at the following code:\n",
    "\n",
    "In the preceding code, the string \"2021-01-01\" can be used as instruction to the program to start a backup from that date. What you gain by using command-line arguments is flexibility; the program can behave differently depending on its outside input.\n",
    "\n",
    "\n",
    "### Command-line arguments"
   ]
  },
  {
   "cell_type": "code",
   "execution_count": 22,
   "metadata": {},
   "outputs": [
    {
     "name": "stdout",
     "output_type": "stream",
     "text": [
      "['C:\\\\Users\\\\edric\\\\AppData\\\\Local\\\\Packages\\\\PythonSoftwareFoundation.Python.3.10_qbz5n2kfra8p0\\\\LocalCache\\\\local-packages\\\\Python310\\\\site-packages\\\\ipykernel_launcher.py', '--ip=127.0.0.1', '--stdin=9012', '--control=9009', '--hb=9008', '--Session.signature_scheme=\"hmac-sha256\"', '--Session.key=b\"8c53f9ae-58c0-4039-b283-cb78b92c41c0\"', '--shell=9011', '--transport=\"tcp\"', '--iopub=9013', '--f=c:\\\\Users\\\\edric\\\\AppData\\\\Roaming\\\\jupyter\\\\runtime\\\\kernel-v2-30912dNqQ4lFg3o5S.json']\n",
      "C:\\Users\\edric\\AppData\\Local\\Packages\\PythonSoftwareFoundation.Python.3.10_qbz5n2kfra8p0\\LocalCache\\local-packages\\Python310\\site-packages\\ipykernel_launcher.py\n",
      "--ip=127.0.0.1\n"
     ]
    }
   ],
   "source": [
    "import sys\n",
    "\n",
    "print(sys.argv)\n",
    "print(sys.argv[0]) # program name\n",
    "print(sys.argv[1]) # first arg"
   ]
  },
  {
   "cell_type": "markdown",
   "metadata": {},
   "source": [
    "sys.argv is an array or a data structure that contains many items. The first position, denoted as 0 in the array, contains the program name. The second position, 1, contains your first argument. Assume that you run the program like this:"
   ]
  },
  {
   "cell_type": "code",
   "execution_count": null,
   "metadata": {},
   "outputs": [],
   "source": []
  },
  {
   "cell_type": "code",
   "execution_count": 24,
   "metadata": {},
   "outputs": [
    {
     "ename": "SyntaxError",
     "evalue": "invalid syntax (3176575189.py, line 1)",
     "output_type": "error",
     "traceback": [
      "\u001b[1;36m  Input \u001b[1;32mIn [24]\u001b[1;36m\u001b[0m\n\u001b[1;33m    python3 cli.py Jupiter\u001b[0m\n\u001b[1;37m            ^\u001b[0m\n\u001b[1;31mSyntaxError\u001b[0m\u001b[1;31m:\u001b[0m invalid syntax\n"
     ]
    }
   ],
   "source": [
    "python3 cli.py Jupiter"
   ]
  },
  {
   "cell_type": "markdown",
   "metadata": {},
   "source": [
    "The program then yields the following result:"
   ]
  },
  {
   "cell_type": "code",
   "execution_count": null,
   "metadata": {},
   "outputs": [],
   "source": [
    "['cli.py', 'Jupiter'] \n",
    "cli.py\n",
    "Jupiter"
   ]
  },
  {
   "cell_type": "markdown",
   "metadata": {},
   "source": [
    "### User input\n",
    "Another way to pass data to the program is having the user enter the data. You can code it so the program tells the user to enter information. You save that entered data in the program and then act on it.\n",
    "\n",
    "To capture information from the user, you'll use the input() function. Here's an example:"
   ]
  },
  {
   "cell_type": "code",
   "execution_count": null,
   "metadata": {},
   "outputs": [],
   "source": [
    "print(\"Welcome to the greeter program\")\n",
    "name = input(\"Enter your name \")\n",
    "print(\"Greetings: \" + name)"
   ]
  },
  {
   "cell_type": "markdown",
   "metadata": {},
   "source": [
    "Running the program by using python3 input.py gives you the following result:"
   ]
  },
  {
   "cell_type": "code",
   "execution_count": null,
   "metadata": {},
   "outputs": [],
   "source": [
    "Welcome to the greeter program\n",
    "Enter your name Picard\n",
    "Greetings: Picard"
   ]
  },
  {
   "cell_type": "markdown",
   "metadata": {},
   "source": [
    "### Working with numbers\n",
    "The input() function stores a result as a string, so the following code might not do what you want it to:"
   ]
  },
  {
   "cell_type": "code",
   "execution_count": 26,
   "metadata": {},
   "outputs": [
    {
     "name": "stdout",
     "output_type": "stream",
     "text": [
      "calculator program\n",
      "34\n"
     ]
    }
   ],
   "source": [
    "print(\"calculator program\")\n",
    "first_number = input(\"first number: \")\n",
    "second_number = input(\"second number: \")\n",
    "print(first_number + second_number)"
   ]
  },
  {
   "cell_type": "markdown",
   "metadata": {},
   "source": [
    "You probably meant for this program to answer you with 7 instead of 34. So what went wrong?\n",
    "\n",
    "The explanation is that first_number and second_number are strings. For the calculation to work correctly, you need to change those strings to numbers by using the int() function. By modifying the last line of the program to use int(), you can resolve the problem:"
   ]
  },
  {
   "cell_type": "code",
   "execution_count": 27,
   "metadata": {},
   "outputs": [
    {
     "name": "stdout",
     "output_type": "stream",
     "text": [
      "7\n"
     ]
    }
   ],
   "source": [
    "print(int(first_number) + int(second_number))\n"
   ]
  },
  {
   "cell_type": "markdown",
   "metadata": {},
   "source": [
    "Rerunning the program now returns 7 as the response.\n",
    "\n"
   ]
  }
 ],
 "metadata": {
  "kernelspec": {
   "display_name": "Python 3.10.5 64-bit (windows store)",
   "language": "python",
   "name": "python3"
  },
  "language_info": {
   "codemirror_mode": {
    "name": "ipython",
    "version": 3
   },
   "file_extension": ".py",
   "mimetype": "text/x-python",
   "name": "python",
   "nbconvert_exporter": "python",
   "pygments_lexer": "ipython3",
   "version": "3.10.5"
  },
  "orig_nbformat": 4,
  "vscode": {
   "interpreter": {
    "hash": "22023fac888fc2ae7b2ece25ee9cc56e4c2fe7ef17d677292b48698be98af199"
   }
  }
 },
 "nbformat": 4,
 "nbformat_minor": 2
}
